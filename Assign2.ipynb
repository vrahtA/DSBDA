{
 "cells": [
  {
   "cell_type": "code",
   "execution_count": 2,
   "metadata": {},
   "outputs": [],
   "source": [
    "import pandas as pd\n",
    "import numpy as np"
   ]
  },
  {
   "cell_type": "code",
   "execution_count": 3,
   "metadata": {},
   "outputs": [
    {
     "name": "stdout",
     "output_type": "stream",
     "text": [
      "    Roll_No      Name  DBMS  TOC  CNS\n",
      "1         1      Abhi   175   60   86\n",
      "2         2    Advait    96   52  198\n",
      "4         3    Akshay    50  147   67\n",
      "7         4      Amol    66   66   45\n",
      "9         5    Bharat    70   70   67\n",
      "10        6   Darshan    81   87   89\n",
      "12        7    Chandu    75   84   73\n",
      "13        8    Mayank    45   79  162\n",
      "14        9  Nachiket    59  174   79\n",
      "15       10     Parth    69   60   87\n"
     ]
    }
   ],
   "source": [
    "df=pd.DataFrame({'Roll_No':[1,2,3,4,5,6,7,8,9,10],\n",
    "'Name':['Abhi','Advait','Akshay','Amol','Bharat','Darshan','Chandu','Mayank','Nachiket','Parth'],\n",
    "'DBMS':[175,96,50,66,70,81,75,45,59,69],\n",
    "'TOC':[60,52,147,66,70,87,84,79,174,60],\n",
    "'CNS':[86,198,67,45,67,89,73,162,79,87]}, index=[1,2,4,7,9,10,12,13,14,15])\n",
    "print(df)"
   ]
  },
  {
   "cell_type": "code",
   "execution_count": 4,
   "metadata": {},
   "outputs": [
    {
     "name": "stdout",
     "output_type": "stream",
     "text": [
      "    Roll_No      Name   DBMS    TOC    CNS\n",
      "1       1.0      Abhi  175.0   60.0   86.0\n",
      "2       2.0    Advait   96.0   52.0  198.0\n",
      "3       NaN       NaN    NaN    NaN    NaN\n",
      "4       3.0    Akshay   50.0  147.0   67.0\n",
      "5       NaN       NaN    NaN    NaN    NaN\n",
      "6       NaN       NaN    NaN    NaN    NaN\n",
      "7       4.0      Amol   66.0   66.0   45.0\n",
      "8       NaN       NaN    NaN    NaN    NaN\n",
      "9       5.0    Bharat   70.0   70.0   67.0\n",
      "10      6.0   Darshan   81.0   87.0   89.0\n",
      "11      NaN       NaN    NaN    NaN    NaN\n",
      "12      7.0    Chandu   75.0   84.0   73.0\n",
      "13      8.0    Mayank   45.0   79.0  162.0\n",
      "14      9.0  Nachiket   59.0  174.0   79.0\n",
      "15     10.0     Parth   69.0   60.0   87.0\n"
     ]
    }
   ],
   "source": [
    "df=df.reindex([1,2,3,4,5,6,7,8,9,10,11,12,13,14,15])\n",
    "print(df)"
   ]
  },
  {
   "cell_type": "code",
   "execution_count": 5,
   "metadata": {},
   "outputs": [
    {
     "data": {
      "text/html": [
       "<div>\n",
       "<style scoped>\n",
       "    .dataframe tbody tr th:only-of-type {\n",
       "        vertical-align: middle;\n",
       "    }\n",
       "\n",
       "    .dataframe tbody tr th {\n",
       "        vertical-align: top;\n",
       "    }\n",
       "\n",
       "    .dataframe thead th {\n",
       "        text-align: right;\n",
       "    }\n",
       "</style>\n",
       "<table border=\"1\" class=\"dataframe\">\n",
       "  <thead>\n",
       "    <tr style=\"text-align: right;\">\n",
       "      <th></th>\n",
       "      <th>Roll_No</th>\n",
       "      <th>DBMS</th>\n",
       "      <th>TOC</th>\n",
       "      <th>CNS</th>\n",
       "    </tr>\n",
       "  </thead>\n",
       "  <tbody>\n",
       "    <tr>\n",
       "      <th>count</th>\n",
       "      <td>10.00000</td>\n",
       "      <td>10.000000</td>\n",
       "      <td>10.000000</td>\n",
       "      <td>10.000000</td>\n",
       "    </tr>\n",
       "    <tr>\n",
       "      <th>mean</th>\n",
       "      <td>5.50000</td>\n",
       "      <td>78.600000</td>\n",
       "      <td>87.900000</td>\n",
       "      <td>95.300000</td>\n",
       "    </tr>\n",
       "    <tr>\n",
       "      <th>std</th>\n",
       "      <td>3.02765</td>\n",
       "      <td>36.923946</td>\n",
       "      <td>40.341459</td>\n",
       "      <td>47.241813</td>\n",
       "    </tr>\n",
       "    <tr>\n",
       "      <th>min</th>\n",
       "      <td>1.00000</td>\n",
       "      <td>45.000000</td>\n",
       "      <td>52.000000</td>\n",
       "      <td>45.000000</td>\n",
       "    </tr>\n",
       "    <tr>\n",
       "      <th>25%</th>\n",
       "      <td>3.25000</td>\n",
       "      <td>60.750000</td>\n",
       "      <td>61.500000</td>\n",
       "      <td>68.500000</td>\n",
       "    </tr>\n",
       "    <tr>\n",
       "      <th>50%</th>\n",
       "      <td>5.50000</td>\n",
       "      <td>69.500000</td>\n",
       "      <td>74.500000</td>\n",
       "      <td>82.500000</td>\n",
       "    </tr>\n",
       "    <tr>\n",
       "      <th>75%</th>\n",
       "      <td>7.75000</td>\n",
       "      <td>79.500000</td>\n",
       "      <td>86.250000</td>\n",
       "      <td>88.500000</td>\n",
       "    </tr>\n",
       "    <tr>\n",
       "      <th>max</th>\n",
       "      <td>10.00000</td>\n",
       "      <td>175.000000</td>\n",
       "      <td>174.000000</td>\n",
       "      <td>198.000000</td>\n",
       "    </tr>\n",
       "  </tbody>\n",
       "</table>\n",
       "</div>"
      ],
      "text/plain": [
       "        Roll_No        DBMS         TOC         CNS\n",
       "count  10.00000   10.000000   10.000000   10.000000\n",
       "mean    5.50000   78.600000   87.900000   95.300000\n",
       "std     3.02765   36.923946   40.341459   47.241813\n",
       "min     1.00000   45.000000   52.000000   45.000000\n",
       "25%     3.25000   60.750000   61.500000   68.500000\n",
       "50%     5.50000   69.500000   74.500000   82.500000\n",
       "75%     7.75000   79.500000   86.250000   88.500000\n",
       "max    10.00000  175.000000  174.000000  198.000000"
      ]
     },
     "execution_count": 5,
     "metadata": {},
     "output_type": "execute_result"
    }
   ],
   "source": [
    "df.describe()"
   ]
  },
  {
   "cell_type": "code",
   "execution_count": 6,
   "metadata": {},
   "outputs": [
    {
     "data": {
      "text/html": [
       "<div>\n",
       "<style scoped>\n",
       "    .dataframe tbody tr th:only-of-type {\n",
       "        vertical-align: middle;\n",
       "    }\n",
       "\n",
       "    .dataframe tbody tr th {\n",
       "        vertical-align: top;\n",
       "    }\n",
       "\n",
       "    .dataframe thead th {\n",
       "        text-align: right;\n",
       "    }\n",
       "</style>\n",
       "<table border=\"1\" class=\"dataframe\">\n",
       "  <thead>\n",
       "    <tr style=\"text-align: right;\">\n",
       "      <th></th>\n",
       "      <th>Roll_No</th>\n",
       "      <th>Name</th>\n",
       "      <th>DBMS</th>\n",
       "      <th>TOC</th>\n",
       "      <th>CNS</th>\n",
       "    </tr>\n",
       "  </thead>\n",
       "  <tbody>\n",
       "    <tr>\n",
       "      <th>1</th>\n",
       "      <td>False</td>\n",
       "      <td>False</td>\n",
       "      <td>False</td>\n",
       "      <td>False</td>\n",
       "      <td>False</td>\n",
       "    </tr>\n",
       "    <tr>\n",
       "      <th>2</th>\n",
       "      <td>False</td>\n",
       "      <td>False</td>\n",
       "      <td>False</td>\n",
       "      <td>False</td>\n",
       "      <td>False</td>\n",
       "    </tr>\n",
       "    <tr>\n",
       "      <th>3</th>\n",
       "      <td>True</td>\n",
       "      <td>True</td>\n",
       "      <td>True</td>\n",
       "      <td>True</td>\n",
       "      <td>True</td>\n",
       "    </tr>\n",
       "    <tr>\n",
       "      <th>4</th>\n",
       "      <td>False</td>\n",
       "      <td>False</td>\n",
       "      <td>False</td>\n",
       "      <td>False</td>\n",
       "      <td>False</td>\n",
       "    </tr>\n",
       "    <tr>\n",
       "      <th>5</th>\n",
       "      <td>True</td>\n",
       "      <td>True</td>\n",
       "      <td>True</td>\n",
       "      <td>True</td>\n",
       "      <td>True</td>\n",
       "    </tr>\n",
       "    <tr>\n",
       "      <th>6</th>\n",
       "      <td>True</td>\n",
       "      <td>True</td>\n",
       "      <td>True</td>\n",
       "      <td>True</td>\n",
       "      <td>True</td>\n",
       "    </tr>\n",
       "    <tr>\n",
       "      <th>7</th>\n",
       "      <td>False</td>\n",
       "      <td>False</td>\n",
       "      <td>False</td>\n",
       "      <td>False</td>\n",
       "      <td>False</td>\n",
       "    </tr>\n",
       "    <tr>\n",
       "      <th>8</th>\n",
       "      <td>True</td>\n",
       "      <td>True</td>\n",
       "      <td>True</td>\n",
       "      <td>True</td>\n",
       "      <td>True</td>\n",
       "    </tr>\n",
       "    <tr>\n",
       "      <th>9</th>\n",
       "      <td>False</td>\n",
       "      <td>False</td>\n",
       "      <td>False</td>\n",
       "      <td>False</td>\n",
       "      <td>False</td>\n",
       "    </tr>\n",
       "    <tr>\n",
       "      <th>10</th>\n",
       "      <td>False</td>\n",
       "      <td>False</td>\n",
       "      <td>False</td>\n",
       "      <td>False</td>\n",
       "      <td>False</td>\n",
       "    </tr>\n",
       "    <tr>\n",
       "      <th>11</th>\n",
       "      <td>True</td>\n",
       "      <td>True</td>\n",
       "      <td>True</td>\n",
       "      <td>True</td>\n",
       "      <td>True</td>\n",
       "    </tr>\n",
       "    <tr>\n",
       "      <th>12</th>\n",
       "      <td>False</td>\n",
       "      <td>False</td>\n",
       "      <td>False</td>\n",
       "      <td>False</td>\n",
       "      <td>False</td>\n",
       "    </tr>\n",
       "    <tr>\n",
       "      <th>13</th>\n",
       "      <td>False</td>\n",
       "      <td>False</td>\n",
       "      <td>False</td>\n",
       "      <td>False</td>\n",
       "      <td>False</td>\n",
       "    </tr>\n",
       "    <tr>\n",
       "      <th>14</th>\n",
       "      <td>False</td>\n",
       "      <td>False</td>\n",
       "      <td>False</td>\n",
       "      <td>False</td>\n",
       "      <td>False</td>\n",
       "    </tr>\n",
       "    <tr>\n",
       "      <th>15</th>\n",
       "      <td>False</td>\n",
       "      <td>False</td>\n",
       "      <td>False</td>\n",
       "      <td>False</td>\n",
       "      <td>False</td>\n",
       "    </tr>\n",
       "  </tbody>\n",
       "</table>\n",
       "</div>"
      ],
      "text/plain": [
       "    Roll_No   Name   DBMS    TOC    CNS\n",
       "1     False  False  False  False  False\n",
       "2     False  False  False  False  False\n",
       "3      True   True   True   True   True\n",
       "4     False  False  False  False  False\n",
       "5      True   True   True   True   True\n",
       "6      True   True   True   True   True\n",
       "7     False  False  False  False  False\n",
       "8      True   True   True   True   True\n",
       "9     False  False  False  False  False\n",
       "10    False  False  False  False  False\n",
       "11     True   True   True   True   True\n",
       "12    False  False  False  False  False\n",
       "13    False  False  False  False  False\n",
       "14    False  False  False  False  False\n",
       "15    False  False  False  False  False"
      ]
     },
     "execution_count": 6,
     "metadata": {},
     "output_type": "execute_result"
    }
   ],
   "source": [
    "df.isnull()"
   ]
  },
  {
   "cell_type": "code",
   "execution_count": 7,
   "metadata": {},
   "outputs": [
    {
     "data": {
      "text/plain": [
       "Roll_No    5\n",
       "Name       5\n",
       "DBMS       5\n",
       "TOC        5\n",
       "CNS        5\n",
       "dtype: int64"
      ]
     },
     "execution_count": 7,
     "metadata": {},
     "output_type": "execute_result"
    }
   ],
   "source": [
    "df.isnull().sum()"
   ]
  },
  {
   "cell_type": "code",
   "execution_count": 8,
   "metadata": {},
   "outputs": [
    {
     "name": "stdout",
     "output_type": "stream",
     "text": [
      "    Roll_No      Name   DBMS    TOC    CNS\n",
      "1       1.0      Abhi  175.0   60.0   86.0\n",
      "2       2.0    Advait   96.0   52.0  198.0\n",
      "3       2.0       NaN    NaN    NaN    NaN\n",
      "4       3.0    Akshay   50.0  147.0   67.0\n",
      "5       3.0       NaN    NaN    NaN    NaN\n",
      "6       3.0       NaN    NaN    NaN    NaN\n",
      "7       4.0      Amol   66.0   66.0   45.0\n",
      "8       4.0       NaN    NaN    NaN    NaN\n",
      "9       5.0    Bharat   70.0   70.0   67.0\n",
      "10      6.0   Darshan   81.0   87.0   89.0\n",
      "11      6.0       NaN    NaN    NaN    NaN\n",
      "12      7.0    Chandu   75.0   84.0   73.0\n",
      "13      8.0    Mayank   45.0   79.0  162.0\n",
      "14      9.0  Nachiket   59.0  174.0   79.0\n",
      "15     10.0     Parth   69.0   60.0   87.0\n"
     ]
    }
   ],
   "source": [
    "df['Roll_No'] = df['Roll_No'].ffill()\n",
    "print(df)"
   ]
  },
  {
   "cell_type": "code",
   "execution_count": 9,
   "metadata": {},
   "outputs": [
    {
     "name": "stdout",
     "output_type": "stream",
     "text": [
      "    Roll_No      Name   DBMS    TOC    CNS\n",
      "1       1.0      Abhi  175.0   60.0   86.0\n",
      "2       2.0    Advait   96.0   52.0  198.0\n",
      "3       2.0    Advait    NaN    NaN    NaN\n",
      "4       3.0    Akshay   50.0  147.0   67.0\n",
      "5       3.0    Akshay    NaN    NaN    NaN\n",
      "6       3.0    Akshay    NaN    NaN    NaN\n",
      "7       4.0      Amol   66.0   66.0   45.0\n",
      "8       4.0      Amol    NaN    NaN    NaN\n",
      "9       5.0    Bharat   70.0   70.0   67.0\n",
      "10      6.0   Darshan   81.0   87.0   89.0\n",
      "11      6.0   Darshan    NaN    NaN    NaN\n",
      "12      7.0    Chandu   75.0   84.0   73.0\n",
      "13      8.0    Mayank   45.0   79.0  162.0\n",
      "14      9.0  Nachiket   59.0  174.0   79.0\n",
      "15     10.0     Parth   69.0   60.0   87.0\n"
     ]
    }
   ],
   "source": [
    "df['Name'] = df['Name'].ffill()\n",
    "print(df)"
   ]
  },
  {
   "cell_type": "code",
   "execution_count": 10,
   "metadata": {},
   "outputs": [
    {
     "name": "stdout",
     "output_type": "stream",
     "text": [
      "    Roll_No      Name   DBMS    TOC    CNS\n",
      "1       1.0      Abhi  175.0   60.0   86.0\n",
      "2       2.0    Advait   96.0   52.0  198.0\n",
      "3       2.0    Advait   96.0    NaN    NaN\n",
      "4       3.0    Akshay   50.0  147.0   67.0\n",
      "5       3.0    Akshay   50.0    NaN    NaN\n",
      "6       3.0    Akshay   50.0    NaN    NaN\n",
      "7       4.0      Amol   66.0   66.0   45.0\n",
      "8       4.0      Amol   66.0    NaN    NaN\n",
      "9       5.0    Bharat   70.0   70.0   67.0\n",
      "10      6.0   Darshan   81.0   87.0   89.0\n",
      "11      6.0   Darshan   81.0    NaN    NaN\n",
      "12      7.0    Chandu   75.0   84.0   73.0\n",
      "13      8.0    Mayank   45.0   79.0  162.0\n",
      "14      9.0  Nachiket   59.0  174.0   79.0\n",
      "15     10.0     Parth   69.0   60.0   87.0\n"
     ]
    }
   ],
   "source": [
    "df['DBMS'] = df['DBMS'].ffill()\n",
    "print(df)"
   ]
  },
  {
   "cell_type": "code",
   "execution_count": 11,
   "metadata": {},
   "outputs": [
    {
     "name": "stdout",
     "output_type": "stream",
     "text": [
      "    Roll_No      Name   DBMS    TOC    CNS\n",
      "1       1.0      Abhi  175.0   60.0   86.0\n",
      "2       2.0    Advait   96.0   52.0  198.0\n",
      "3       2.0    Advait   96.0   52.0    NaN\n",
      "4       3.0    Akshay   50.0  147.0   67.0\n",
      "5       3.0    Akshay   50.0  147.0    NaN\n",
      "6       3.0    Akshay   50.0  147.0    NaN\n",
      "7       4.0      Amol   66.0   66.0   45.0\n",
      "8       4.0      Amol   66.0   66.0    NaN\n",
      "9       5.0    Bharat   70.0   70.0   67.0\n",
      "10      6.0   Darshan   81.0   87.0   89.0\n",
      "11      6.0   Darshan   81.0   87.0    NaN\n",
      "12      7.0    Chandu   75.0   84.0   73.0\n",
      "13      8.0    Mayank   45.0   79.0  162.0\n",
      "14      9.0  Nachiket   59.0  174.0   79.0\n",
      "15     10.0     Parth   69.0   60.0   87.0\n"
     ]
    }
   ],
   "source": [
    "df['TOC'] = df['TOC'].ffill()\n",
    "print(df)"
   ]
  },
  {
   "cell_type": "code",
   "execution_count": 12,
   "metadata": {},
   "outputs": [
    {
     "name": "stdout",
     "output_type": "stream",
     "text": [
      "    Roll_No      Name   DBMS    TOC    CNS\n",
      "1       1.0      Abhi  175.0   60.0   86.0\n",
      "2       2.0    Advait   96.0   52.0  198.0\n",
      "3       2.0    Advait   96.0   52.0  198.0\n",
      "4       3.0    Akshay   50.0  147.0   67.0\n",
      "5       3.0    Akshay   50.0  147.0   67.0\n",
      "6       3.0    Akshay   50.0  147.0   67.0\n",
      "7       4.0      Amol   66.0   66.0   45.0\n",
      "8       4.0      Amol   66.0   66.0   45.0\n",
      "9       5.0    Bharat   70.0   70.0   67.0\n",
      "10      6.0   Darshan   81.0   87.0   89.0\n",
      "11      6.0   Darshan   81.0   87.0   89.0\n",
      "12      7.0    Chandu   75.0   84.0   73.0\n",
      "13      8.0    Mayank   45.0   79.0  162.0\n",
      "14      9.0  Nachiket   59.0  174.0   79.0\n",
      "15     10.0     Parth   69.0   60.0   87.0\n"
     ]
    }
   ],
   "source": [
    "df['CNS'] = df['CNS'].ffill()\n",
    "print(df)"
   ]
  },
  {
   "cell_type": "code",
   "execution_count": 13,
   "metadata": {},
   "outputs": [
    {
     "data": {
      "text/html": [
       "<div>\n",
       "<style scoped>\n",
       "    .dataframe tbody tr th:only-of-type {\n",
       "        vertical-align: middle;\n",
       "    }\n",
       "\n",
       "    .dataframe tbody tr th {\n",
       "        vertical-align: top;\n",
       "    }\n",
       "\n",
       "    .dataframe thead th {\n",
       "        text-align: right;\n",
       "    }\n",
       "</style>\n",
       "<table border=\"1\" class=\"dataframe\">\n",
       "  <thead>\n",
       "    <tr style=\"text-align: right;\">\n",
       "      <th></th>\n",
       "      <th>Roll_No</th>\n",
       "      <th>DBMS</th>\n",
       "      <th>TOC</th>\n",
       "      <th>CNS</th>\n",
       "    </tr>\n",
       "  </thead>\n",
       "  <tbody>\n",
       "    <tr>\n",
       "      <th>count</th>\n",
       "      <td>15.000000</td>\n",
       "      <td>15.000000</td>\n",
       "      <td>15.000000</td>\n",
       "      <td>15.000000</td>\n",
       "    </tr>\n",
       "    <tr>\n",
       "      <th>mean</th>\n",
       "      <td>4.866667</td>\n",
       "      <td>75.266667</td>\n",
       "      <td>91.866667</td>\n",
       "      <td>94.600000</td>\n",
       "    </tr>\n",
       "    <tr>\n",
       "      <th>std</th>\n",
       "      <td>2.722044</td>\n",
       "      <td>31.855627</td>\n",
       "      <td>40.677945</td>\n",
       "      <td>49.855219</td>\n",
       "    </tr>\n",
       "    <tr>\n",
       "      <th>min</th>\n",
       "      <td>1.000000</td>\n",
       "      <td>45.000000</td>\n",
       "      <td>52.000000</td>\n",
       "      <td>45.000000</td>\n",
       "    </tr>\n",
       "    <tr>\n",
       "      <th>25%</th>\n",
       "      <td>3.000000</td>\n",
       "      <td>54.500000</td>\n",
       "      <td>63.000000</td>\n",
       "      <td>67.000000</td>\n",
       "    </tr>\n",
       "    <tr>\n",
       "      <th>50%</th>\n",
       "      <td>4.000000</td>\n",
       "      <td>69.000000</td>\n",
       "      <td>79.000000</td>\n",
       "      <td>79.000000</td>\n",
       "    </tr>\n",
       "    <tr>\n",
       "      <th>75%</th>\n",
       "      <td>6.500000</td>\n",
       "      <td>81.000000</td>\n",
       "      <td>117.000000</td>\n",
       "      <td>89.000000</td>\n",
       "    </tr>\n",
       "    <tr>\n",
       "      <th>max</th>\n",
       "      <td>10.000000</td>\n",
       "      <td>175.000000</td>\n",
       "      <td>174.000000</td>\n",
       "      <td>198.000000</td>\n",
       "    </tr>\n",
       "  </tbody>\n",
       "</table>\n",
       "</div>"
      ],
      "text/plain": [
       "         Roll_No        DBMS         TOC         CNS\n",
       "count  15.000000   15.000000   15.000000   15.000000\n",
       "mean    4.866667   75.266667   91.866667   94.600000\n",
       "std     2.722044   31.855627   40.677945   49.855219\n",
       "min     1.000000   45.000000   52.000000   45.000000\n",
       "25%     3.000000   54.500000   63.000000   67.000000\n",
       "50%     4.000000   69.000000   79.000000   79.000000\n",
       "75%     6.500000   81.000000  117.000000   89.000000\n",
       "max    10.000000  175.000000  174.000000  198.000000"
      ]
     },
     "execution_count": 13,
     "metadata": {},
     "output_type": "execute_result"
    }
   ],
   "source": [
    "df.describe()"
   ]
  },
  {
   "cell_type": "code",
   "execution_count": 14,
   "metadata": {},
   "outputs": [],
   "source": [
    "num=['Roll_No','DBMS','TOC','CNS']"
   ]
  },
  {
   "cell_type": "code",
   "execution_count": 15,
   "metadata": {},
   "outputs": [
    {
     "data": {
      "image/png": "[encoded data removed]",
      "text/plain": [
       "<Figure size 640x480 with 1 Axes>"
      ]
     },
     "metadata": {},
     "output_type": "display_data"
    }
   ],
   "source": [
    "import matplotlib.pyplot as plt \n",
    "df.boxplot(num)\n",
    "plt.show()"
   ]
  },
  {
   "cell_type": "code",
   "execution_count": 16,
   "metadata": {},
   "outputs": [
    {
     "data": {
      "image/png": "[encoded data removed]",
      "text/plain": [
       "<Figure size 640x480 with 1 Axes>"
      ]
     },
     "metadata": {},
     "output_type": "display_data"
    }
   ],
   "source": [
    "df['log_TOC']=np.log10(df['TOC'])\n",
    "df['log_TOC'].plot(kind='hist')\n",
    "plt.show()"
   ]
  },
  {
   "cell_type": "code",
   "execution_count": 17,
   "metadata": {},
   "outputs": [
    {
     "data": {
      "image/png": "[encoded data removed]",
      "text/plain": [
       "<Figure size 640x480 with 1 Axes>"
      ]
     },
     "metadata": {},
     "output_type": "display_data"
    }
   ],
   "source": [
    "df['DBMS_marks']=df['DBMS']\n",
    "df['DBMS_marks'].plot(kind='hist')\n",
    "plt.show()"
   ]
  },
  {
   "cell_type": "code",
   "execution_count": 18,
   "metadata": {},
   "outputs": [
    {
     "data": {
      "image/png": "[encoded data removed]",
      "text/plain": [
       "<Figure size 640x480 with 1 Axes>"
      ]
     },
     "metadata": {},
     "output_type": "display_data"
    }
   ],
   "source": [
    "df['log_DBMS']=np.log10(df['DBMS'])\n",
    "df['log_DBMS'].plot(kind='hist')\n",
    "plt.show()"
   ]
  },
  {
   "cell_type": "code",
   "execution_count": 20,
   "metadata": {},
   "outputs": [
    {
     "name": "stdout",
     "output_type": "stream",
     "text": [
      "    Roll_No      Name   DBMS    TOC    CNS   log_TOC  DBMS_marks  log_DBMS  \\\n",
      "1       1.0      Abhi  175.0   60.0   86.0  1.778151       175.0  2.243038   \n",
      "2       2.0    Advait   96.0   52.0  198.0  1.716003        96.0  1.982271   \n",
      "3       2.0    Advait   96.0   52.0  198.0  1.716003        96.0  1.982271   \n",
      "4       3.0    Akshay   50.0  147.0   67.0  2.167317        50.0  1.698970   \n",
      "5       3.0    Akshay   50.0  147.0   67.0  2.167317        50.0  1.698970   \n",
      "6       3.0    Akshay   50.0  147.0   67.0  2.167317        50.0  1.698970   \n",
      "7       4.0      Amol   66.0   66.0   45.0  1.819544        66.0  1.819544   \n",
      "8       4.0      Amol   66.0   66.0   45.0  1.819544        66.0  1.819544   \n",
      "9       5.0    Bharat   70.0   70.0   67.0  1.845098        70.0  1.845098   \n",
      "10      6.0   Darshan   81.0   87.0   89.0  1.939519        81.0  1.908485   \n",
      "11      6.0   Darshan   81.0   87.0   89.0  1.939519        81.0  1.908485   \n",
      "12      7.0    Chandu   75.0   84.0   73.0  1.924279        75.0  1.875061   \n",
      "13      8.0    Mayank   45.0   79.0  162.0  1.897627        45.0  1.653213   \n",
      "14      9.0  Nachiket   59.0  174.0   79.0  2.240549        59.0  1.770852   \n",
      "15     10.0     Parth   69.0   60.0   87.0  1.778151        69.0  1.838849   \n",
      "\n",
      "     log_CNS  \n",
      "1   1.934498  \n",
      "2   2.296665  \n",
      "3   2.296665  \n",
      "4   1.826075  \n",
      "5   1.826075  \n",
      "6   1.826075  \n",
      "7   1.653213  \n",
      "8   1.653213  \n",
      "9   1.826075  \n",
      "10  1.949390  \n",
      "11  1.949390  \n",
      "12  1.863323  \n",
      "13  2.209515  \n",
      "14  1.897627  \n",
      "15  1.939519  \n"
     ]
    }
   ],
   "source": [
    "df['log_DBMS'] = np.log10(df['DBMS'])\n",
    "df['log_TOC'] = np.log10(df['TOC'])\n",
    "df['log_CNS'] = np.log10(df['CNS'])\n",
    "print(df)"
   ]
  },
  {
   "cell_type": "code",
   "execution_count": 21,
   "metadata": {},
   "outputs": [
    {
     "name": "stdout",
     "output_type": "stream",
     "text": [
      "Skewness before transform :  DBMS    2.365507\n",
      "TOC     1.000948\n",
      "CNS     1.445765\n",
      "dtype: float64\n"
     ]
    }
   ],
   "source": [
    "skweness = df[['DBMS' , 'TOC' , 'CNS']].skew()\n",
    "print('Skewness before transform : ' , skweness)"
   ]
  },
  {
   "cell_type": "code",
   "execution_count": 22,
   "metadata": {},
   "outputs": [
    {
     "name": "stdout",
     "output_type": "stream",
     "text": [
      "Skewness after transformation :  log_DBMS    1.178379\n",
      "log_TOC     0.646169\n",
      "log_CNS     0.778494\n",
      "dtype: float64\n"
     ]
    }
   ],
   "source": [
    "newSkewness = df[['log_DBMS' , 'log_TOC' , 'log_CNS']].skew()\n",
    "print('Skewness after transformation : ' , newSkewness)"
   ]
  }
 ],
 "metadata": {
  "kernelspec": {
   "display_name": "Python 3",
   "language": "python",
   "name": "python3"
  },
  "language_info": {
   "codemirror_mode": {
    "name": "ipython",
    "version": 3
   },
   "file_extension": ".py",
   "mimetype": "text/x-python",
   "name": "python",
   "nbconvert_exporter": "python",
   "pygments_lexer": "ipython3",
   "version": "3.11.9"
  }
 },
 "nbformat": 4,
 "nbformat_minor": 2
}
