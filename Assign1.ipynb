{
 "cells": [
  {
   "cell_type": "code",
   "execution_count": 24,
   "metadata": {
    "colab": {
     "base_uri": "https://localhost:8080/"
    },
    "executionInfo": {
     "elapsed": 10329,
     "status": "ok",
     "timestamp": 1736395680257,
     "user": {
      "displayName": "Vedanti Bijwe",
      "userId": "17411945833852736572"
     },
     "user_tz": -330
    },
    "id": "KGM4Y2B7PnXQ",
    "outputId": "886a4a14-1963-4a6b-9183-c6be67f4e6ae"
   },
   "outputs": [
    {
     "name": "stdout",
     "output_type": "stream",
     "text": [
      "Requirement already satisfied: kagglehub in c:\\users\\atharv\\appdata\\local\\packages\\pythonsoftwarefoundation.python.3.11_qbz5n2kfra8p0\\localcache\\local-packages\\python311\\site-packages (0.3.9)\n",
      "Requirement already satisfied: packaging in c:\\users\\atharv\\appdata\\local\\packages\\pythonsoftwarefoundation.python.3.11_qbz5n2kfra8p0\\localcache\\local-packages\\python311\\site-packages (from kagglehub) (24.2)\n",
      "Requirement already satisfied: pyyaml in c:\\users\\atharv\\appdata\\local\\packages\\pythonsoftwarefoundation.python.3.11_qbz5n2kfra8p0\\localcache\\local-packages\\python311\\site-packages (from kagglehub) (6.0.2)\n",
      "Requirement already satisfied: requests in c:\\users\\atharv\\appdata\\local\\packages\\pythonsoftwarefoundation.python.3.11_qbz5n2kfra8p0\\localcache\\local-packages\\python311\\site-packages (from kagglehub) (2.32.3)\n",
      "Requirement already satisfied: tqdm in c:\\users\\atharv\\appdata\\local\\packages\\pythonsoftwarefoundation.python.3.11_qbz5n2kfra8p0\\localcache\\local-packages\\python311\\site-packages (from kagglehub) (4.67.1)\n",
      "Requirement already satisfied: charset-normalizer<4,>=2 in c:\\users\\atharv\\appdata\\local\\packages\\pythonsoftwarefoundation.python.3.11_qbz5n2kfra8p0\\localcache\\local-packages\\python311\\site-packages (from requests->kagglehub) (3.4.1)\n",
      "Requirement already satisfied: idna<4,>=2.5 in c:\\users\\atharv\\appdata\\local\\packages\\pythonsoftwarefoundation.python.3.11_qbz5n2kfra8p0\\localcache\\local-packages\\python311\\site-packages (from requests->kagglehub) (3.10)\n",
      "Requirement already satisfied: urllib3<3,>=1.21.1 in c:\\users\\atharv\\appdata\\local\\packages\\pythonsoftwarefoundation.python.3.11_qbz5n2kfra8p0\\localcache\\local-packages\\python311\\site-packages (from requests->kagglehub) (2.3.0)\n",
      "Requirement already satisfied: certifi>=2017.4.17 in c:\\users\\atharv\\appdata\\local\\packages\\pythonsoftwarefoundation.python.3.11_qbz5n2kfra8p0\\localcache\\local-packages\\python311\\site-packages (from requests->kagglehub) (2025.1.31)\n",
      "Requirement already satisfied: colorama in c:\\users\\atharv\\appdata\\local\\packages\\pythonsoftwarefoundation.python.3.11_qbz5n2kfra8p0\\localcache\\local-packages\\python311\\site-packages (from tqdm->kagglehub) (0.4.6)\n"
     ]
    }
   ],
   "source": [
    "!pip install kagglehub"
   ]
  },
  {
   "cell_type": "code",
   "execution_count": 25,
   "metadata": {
    "colab": {
     "base_uri": "https://localhost:8080/"
    },
    "executionInfo": {
     "elapsed": 10334,
     "status": "ok",
     "timestamp": 1736395709883,
     "user": {
      "displayName": "Vedanti Bijwe",
      "userId": "17411945833852736572"
     },
     "user_tz": -330
    },
    "id": "yoREkX1mP4Ri",
    "outputId": "6de0358f-6b0c-422d-c3e7-b48fe6de5f66"
   },
   "outputs": [
    {
     "name": "stdout",
     "output_type": "stream",
     "text": [
      "Warning: Looks like you're using an outdated `kagglehub` version (installed: 0.3.9), please consider upgrading to the latest version (0.3.10).\n",
      "Path to dataset files: C:\\Users\\Atharv\\.cache\\kagglehub\\datasets\\ankushpanday1\\heart-attack-in-youth-vs-adult-in-americastate\\versions\\1\n"
     ]
    }
   ],
   "source": [
    "import kagglehub\n",
    "\n",
    "# Download latest version\n",
    "path = kagglehub.dataset_download(\"ankushpanday1/heart-attack-in-youth-vs-adult-in-americastate\")\n",
    "\n",
    "print(\"Path to dataset files:\", path)"
   ]
  },
  {
   "cell_type": "code",
   "execution_count": 26,
   "metadata": {
    "colab": {
     "base_uri": "https://localhost:8080/"
    },
    "executionInfo": {
     "elapsed": 395,
     "status": "ok",
     "timestamp": 1736396048984,
     "user": {
      "displayName": "Vedanti Bijwe",
      "userId": "17411945833852736572"
     },
     "user_tz": -330
    },
    "id": "91wUxrnIQJ_p",
    "outputId": "6292153e-d73f-4cf6-dfd7-fc10363ee309"
   },
   "outputs": [
    {
     "name": "stdout",
     "output_type": "stream",
     "text": [
      "Path to dataset files: C:\\Users\\Atharv\\.cache\\kagglehub\\datasets\\ankushpanday1\\heart-attack-in-youth-vs-adult-in-americastate\\versions\\1\n"
     ]
    }
   ],
   "source": [
    "print(\"Path to dataset files:\", path)"
   ]
  },
  {
   "cell_type": "code",
   "execution_count": 27,
   "metadata": {
    "colab": {
     "base_uri": "https://localhost:8080/"
    },
    "executionInfo": {
     "elapsed": 20930,
     "status": "ok",
     "timestamp": 1736399256230,
     "user": {
      "displayName": "Vedanti Bijwe",
      "userId": "17411945833852736572"
     },
     "user_tz": -330
    },
    "id": "-rJ1jUleR1BT",
    "outputId": "2730c2cd-b24e-4640-95f9-96fca85f80d9"
   },
   "outputs": [
    {
     "name": "stdout",
     "output_type": "stream",
     "text": [
      "Warning: Looks like you're using an outdated `kagglehub` version (installed: 0.3.9), please consider upgrading to the latest version (0.3.10).\n",
      "Dataset downloaded to: C:\\Users\\Atharv\\.cache\\kagglehub\\datasets\\ankushpanday1\\heart-attack-in-youth-vs-adult-in-americastate\\versions\\1\n",
      "   ID Age_Group  Gender        Ethnicity  Smoking_Status Alcohol_Consumption  \\\n",
      "0   1     Youth  Female  Native American  Current Smoker            Moderate   \n",
      "1   2     Adult  Female  Native American      Non-smoker            Moderate   \n",
      "2   3     Adult    Male  Native American   Former Smoker            Moderate   \n",
      "3   4     Adult  Female            Black      Non-smoker            Moderate   \n",
      "4   5     Youth    Male            White      Non-smoker            Moderate   \n",
      "\n",
      "  Diet_Quality  Cholesterol_Level  Blood_Pressure   BMI  ...  Stress_Level  \\\n",
      "0      Average                219             130  24.0  ...          High   \n",
      "1      Average                151             122  35.6  ...      Moderate   \n",
      "2      Average                141             155  22.3  ...          High   \n",
      "3      Average                220             173  29.8  ...          High   \n",
      "4      Average                233             140  30.9  ...          High   \n",
      "\n",
      "  Family_History  Diabetes  Air_Quality_Index Income_Level Sleep_Hours  \\\n",
      "0              1         0           Moderate         High         4.3   \n",
      "1              0         1               Good       Medium         8.0   \n",
      "2              0         0               Good          Low         5.9   \n",
      "3              0         1           Moderate          Low         8.5   \n",
      "4              0         0               Good       Medium         5.9   \n",
      "\n",
      "   Heart_Rate  Medication_Status  Heart_Attack  \\\n",
      "0          98                  0             0   \n",
      "1          81                  0             0   \n",
      "2          84                  0             1   \n",
      "3          75                  0             0   \n",
      "4          99                  0             1   \n",
      "\n",
      "                           Source_File  \n",
      "0  heart_attack_youth_vs_adult (1).csv  \n",
      "1  heart_attack_youth_vs_adult (1).csv  \n",
      "2  heart_attack_youth_vs_adult (1).csv  \n",
      "3  heart_attack_youth_vs_adult (1).csv  \n",
      "4  heart_attack_youth_vs_adult (1).csv  \n",
      "\n",
      "[5 rows x 21 columns]\n",
      "Shape of the final dataset: (5000000, 21)\n",
      "Data types of each column: ID                       int64\n",
      "Age_Group               object\n",
      "Gender                  object\n",
      "Ethnicity               object\n",
      "Smoking_Status          object\n",
      "Alcohol_Consumption     object\n",
      "Diet_Quality            object\n",
      "Cholesterol_Level        int64\n",
      "Blood_Pressure           int64\n",
      "BMI                    float64\n",
      "Physical_Activity        int64\n",
      "Stress_Level            object\n",
      "Family_History           int64\n",
      "Diabetes                 int64\n",
      "Air_Quality_Index       object\n",
      "Income_Level            object\n",
      "Sleep_Hours            float64\n",
      "Heart_Rate               int64\n",
      "Medication_Status        int64\n",
      "Heart_Attack             int64\n",
      "Source_File             object\n",
      "dtype: object\n",
      "The dataset has 5000000 rows and 21 columns.\n"
     ]
    }
   ],
   "source": [
    "import os\n",
    "import pandas as pd\n",
    "import kagglehub\n",
    "\n",
    "# Download the dataset using kagglehub\n",
    "path = kagglehub.dataset_download(\"ankushpanday1/heart-attack-in-youth-vs-adult-in-americastate\")\n",
    "\n",
    "# Print the path to confirm where the dataset is stored\n",
    "print(f\"Dataset downloaded to: {path}\")\n",
    "\n",
    "# Get a list of all CSV files in the specified path\n",
    "csv_files = [f for f in os.listdir(path) if f.endswith('.csv')]\n",
    "\n",
    "# Initialize an empty list to store DataFrames\n",
    "dataframes = []\n",
    "\n",
    "# Loop through the CSV files and load them\n",
    "for file in csv_files:\n",
    "    # Full path to the current CSV file\n",
    "    file_path = os.path.join(path, file)\n",
    "\n",
    "    # Load the CSV file into a DataFrame\n",
    "    df = pd.read_csv(file_path)\n",
    "\n",
    "    # Optionally, you can add the filename as a new column to identify the source file\n",
    "    df['Source_File'] = file\n",
    "\n",
    "    # Append the DataFrame to the list\n",
    "    dataframes.append(df)\n",
    "\n",
    "# Concatenate all the DataFrames into one\n",
    "all_data = pd.concat(dataframes, ignore_index=True)\n",
    "\n",
    "# Display the first few rows of the concatenated DataFrame\n",
    "print(all_data.head())\n",
    "\n",
    "# Optionally, print the shape of the final DataFrame\n",
    "print(\"Shape of the final dataset:\", all_data.shape)\n",
    "\n",
    "# Check data types of columns\n",
    "print(\"Data types of each column:\", all_data.dtypes)\n",
    "\n",
    "\n",
    "print(f\"The dataset has {df.shape[0]} rows and {df.shape[1]} columns.\")\n"
   ]
  },
  {
   "cell_type": "code",
   "execution_count": 28,
   "metadata": {
    "colab": {
     "base_uri": "https://localhost:8080/"
    },
    "executionInfo": {
     "elapsed": 6650,
     "status": "ok",
     "timestamp": 1736396441206,
     "user": {
      "displayName": "Vedanti Bijwe",
      "userId": "17411945833852736572"
     },
     "user_tz": -330
    },
    "id": "4qeJK3pgSbPq",
    "outputId": "823d654a-8442-483c-f280-8d1feaea0e00"
   },
   "outputs": [
    {
     "name": "stdout",
     "output_type": "stream",
     "text": [
      "ID                           0\n",
      "Age_Group                    0\n",
      "Gender                       0\n",
      "Ethnicity                    0\n",
      "Smoking_Status               0\n",
      "Alcohol_Consumption    1998915\n",
      "Diet_Quality                 0\n",
      "Cholesterol_Level            0\n",
      "Blood_Pressure               0\n",
      "BMI                          0\n",
      "Physical_Activity            0\n",
      "Stress_Level                 0\n",
      "Family_History               0\n",
      "Diabetes                     0\n",
      "Air_Quality_Index            0\n",
      "Income_Level                 0\n",
      "Sleep_Hours                  0\n",
      "Heart_Rate                   0\n",
      "Medication_Status            0\n",
      "Heart_Attack                 0\n",
      "Source_File                  0\n",
      "dtype: int64\n"
     ]
    }
   ],
   "source": [
    "miss=df.isnull()\n",
    "missc=df.isnull().sum()\n",
    "print(missc)"
   ]
  },
  {
   "cell_type": "code",
   "execution_count": 29,
   "metadata": {
    "colab": {
     "base_uri": "https://localhost:8080/"
    },
    "executionInfo": {
     "elapsed": 2708,
     "status": "ok",
     "timestamp": 1736396551835,
     "user": {
      "displayName": "Vedanti Bijwe",
      "userId": "17411945833852736572"
     },
     "user_tz": -330
    },
    "id": "mq5TGGVpSy0_",
    "outputId": "adc1ba4c-61f5-4752-eb8b-6c8f0d2416bd"
   },
   "outputs": [
    {
     "name": "stdout",
     "output_type": "stream",
     "text": [
      "                 ID  Cholesterol_Level  Blood_Pressure           BMI  \\\n",
      "count  5.000000e+06       5.000000e+06    5.000000e+06  5.000000e+06   \n",
      "mean   2.500000e+06       2.094678e+02    1.345066e+02  2.899921e+01   \n",
      "std    1.443376e+06       5.195305e+01    2.597745e+01  6.349140e+00   \n",
      "min    1.000000e+00       1.200000e+02    9.000000e+01  1.800000e+01   \n",
      "25%    1.250001e+06       1.640000e+02    1.120000e+02  2.350000e+01   \n",
      "50%    2.500000e+06       2.090000e+02    1.350000e+02  2.900000e+01   \n",
      "75%    3.750000e+06       2.540000e+02    1.570000e+02  3.450000e+01   \n",
      "max    5.000000e+06       2.990000e+02    1.790000e+02  4.000000e+01   \n",
      "\n",
      "       Physical_Activity  Family_History      Diabetes   Sleep_Hours  \\\n",
      "count       5.000000e+06    5.000000e+06  5.000000e+06  5.000000e+06   \n",
      "mean        1.495595e+02    2.997998e-01  2.001976e-01  6.999863e+00   \n",
      "std         8.658602e+01    4.581702e-01  4.001482e-01  1.732367e+00   \n",
      "min         0.000000e+00    0.000000e+00  0.000000e+00  4.000000e+00   \n",
      "25%         7.500000e+01    0.000000e+00  0.000000e+00  5.500000e+00   \n",
      "50%         1.500000e+02    0.000000e+00  0.000000e+00  7.000000e+00   \n",
      "75%         2.250000e+02    1.000000e+00  0.000000e+00  8.500000e+00   \n",
      "max         2.990000e+02    1.000000e+00  1.000000e+00  1.000000e+01   \n",
      "\n",
      "         Heart_Rate  Medication_Status  Heart_Attack  \n",
      "count  5.000000e+06       5.000000e+06  5.000000e+06  \n",
      "mean   7.450814e+01       1.498800e-01  1.000560e-01  \n",
      "std    1.442886e+01       3.569538e-01  3.000747e-01  \n",
      "min    5.000000e+01       0.000000e+00  0.000000e+00  \n",
      "25%    6.200000e+01       0.000000e+00  0.000000e+00  \n",
      "50%    7.500000e+01       0.000000e+00  0.000000e+00  \n",
      "75%    8.700000e+01       0.000000e+00  0.000000e+00  \n",
      "max    9.900000e+01       1.000000e+00  1.000000e+00  \n"
     ]
    }
   ],
   "source": [
    "summ=df.describe()\n",
    "print(summ)"
   ]
  },
  {
   "cell_type": "code",
   "execution_count": 30,
   "metadata": {
    "colab": {
     "base_uri": "https://localhost:8080/"
    },
    "executionInfo": {
     "elapsed": 714,
     "status": "ok",
     "timestamp": 1736396694140,
     "user": {
      "displayName": "Vedanti Bijwe",
      "userId": "17411945833852736572"
     },
     "user_tz": -330
    },
    "id": "aqcxch3pTffA",
    "outputId": "58c33c3f-0d73-4744-9fbf-0ce0433455be"
   },
   "outputs": [
    {
     "name": "stdout",
     "output_type": "stream",
     "text": [
      "ID                       int64\n",
      "Age_Group               object\n",
      "Gender                  object\n",
      "Ethnicity               object\n",
      "Smoking_Status          object\n",
      "Alcohol_Consumption     object\n",
      "Diet_Quality            object\n",
      "Cholesterol_Level        int64\n",
      "Blood_Pressure           int64\n",
      "BMI                    float64\n",
      "Physical_Activity        int64\n",
      "Stress_Level            object\n",
      "Family_History           int64\n",
      "Diabetes                 int64\n",
      "Air_Quality_Index       object\n",
      "Income_Level            object\n",
      "Sleep_Hours            float64\n",
      "Heart_Rate               int64\n",
      "Medication_Status        int64\n",
      "Heart_Attack             int64\n",
      "Source_File             object\n",
      "dtype: object\n"
     ]
    }
   ],
   "source": [
    "datat=df.dtypes\n",
    "print(datat)"
   ]
  },
  {
   "cell_type": "code",
   "execution_count": 31,
   "metadata": {
    "colab": {
     "base_uri": "https://localhost:8080/"
    },
    "executionInfo": {
     "elapsed": 491,
     "status": "ok",
     "timestamp": 1736396763063,
     "user": {
      "displayName": "Vedanti Bijwe",
      "userId": "17411945833852736572"
     },
     "user_tz": -330
    },
    "id": "EUZ1DuphTwBg",
    "outputId": "550ced80-4758-4357-bcc1-3990ee52a26e"
   },
   "outputs": [
    {
     "name": "stdout",
     "output_type": "stream",
     "text": [
      "<class 'pandas.core.frame.DataFrame'>\n",
      "RangeIndex: 5000000 entries, 0 to 4999999\n",
      "Data columns (total 21 columns):\n",
      " #   Column               Dtype  \n",
      "---  ------               -----  \n",
      " 0   ID                   int64  \n",
      " 1   Age_Group            object \n",
      " 2   Gender               object \n",
      " 3   Ethnicity            object \n",
      " 4   Smoking_Status       object \n",
      " 5   Alcohol_Consumption  object \n",
      " 6   Diet_Quality         object \n",
      " 7   Cholesterol_Level    int64  \n",
      " 8   Blood_Pressure       int64  \n",
      " 9   BMI                  float64\n",
      " 10  Physical_Activity    int64  \n",
      " 11  Stress_Level         object \n",
      " 12  Family_History       int64  \n",
      " 13  Diabetes             int64  \n",
      " 14  Air_Quality_Index    object \n",
      " 15  Income_Level         object \n",
      " 16  Sleep_Hours          float64\n",
      " 17  Heart_Rate           int64  \n",
      " 18  Medication_Status    int64  \n",
      " 19  Heart_Attack         int64  \n",
      " 20  Source_File          object \n",
      "dtypes: float64(2), int64(9), object(10)\n",
      "memory usage: 801.1+ MB\n",
      "None\n"
     ]
    }
   ],
   "source": [
    "print(df.info())"
   ]
  },
  {
   "cell_type": "code",
   "execution_count": 32,
   "metadata": {
    "colab": {
     "base_uri": "https://localhost:8080/"
    },
    "executionInfo": {
     "elapsed": 377,
     "status": "ok",
     "timestamp": 1736397334109,
     "user": {
      "displayName": "Vedanti Bijwe",
      "userId": "17411945833852736572"
     },
     "user_tz": -330
    },
    "id": "0K8jkTQVUuCJ",
    "outputId": "ca146897-d3cc-4c79-cd0e-5a62b61637f8"
   },
   "outputs": [
    {
     "name": "stdout",
     "output_type": "stream",
     "text": [
      "ID                       int64\n",
      "Age_Group               object\n",
      "Gender                  object\n",
      "Ethnicity               object\n",
      "Smoking_Status          object\n",
      "Alcohol_Consumption     object\n",
      "Diet_Quality            object\n",
      "Cholesterol_Level        int64\n",
      "Blood_Pressure           int64\n",
      "BMI                    float64\n",
      "Physical_Activity        int64\n",
      "Stress_Level            object\n",
      "Family_History           int64\n",
      "Diabetes                 int64\n",
      "Air_Quality_Index       object\n",
      "Income_Level            object\n",
      "Sleep_Hours            float64\n",
      "Heart_Rate               int64\n",
      "Medication_Status        int64\n",
      "Heart_Attack             int64\n",
      "Source_File             object\n",
      "BIM                      int64\n",
      "dtype: object\n"
     ]
    }
   ],
   "source": [
    "import pandas as pd\n",
    "df['BIM'] =df['BMI'].astype(int)\n",
    "print(df.dtypes)\n"
   ]
  },
  {
   "cell_type": "code",
   "execution_count": 33,
   "metadata": {
    "colab": {
     "base_uri": "https://localhost:8080/"
    },
    "executionInfo": {
     "elapsed": 439,
     "status": "ok",
     "timestamp": 1736398085851,
     "user": {
      "displayName": "Vedanti Bijwe",
      "userId": "17411945833852736572"
     },
     "user_tz": -330
    },
    "id": "oQhKkDO4Yxp9",
    "outputId": "230ee5a6-983e-4a91-d09a-82e55a1e0a1b"
   },
   "outputs": [
    {
     "name": "stdout",
     "output_type": "stream",
     "text": [
      "ID                       int64\n",
      "Age_Group               object\n",
      "Gender                  object\n",
      "Ethnicity               object\n",
      "Smoking_Status          object\n",
      "Alcohol_Consumption     object\n",
      "Diet_Quality            object\n",
      "Cholesterol_Level        int64\n",
      "Blood_Pressure           int64\n",
      "BMI                    float64\n",
      "Physical_Activity        int64\n",
      "Stress_Level            object\n",
      "Family_History           int64\n",
      "Diabetes                 int64\n",
      "Air_Quality_Index       object\n",
      "Income_Level            object\n",
      "Sleep_Hours            float64\n",
      "Heart_Rate               int64\n",
      "Medication_Status        int64\n",
      "Heart_Attack           float64\n",
      "Source_File             object\n",
      "BIM                      int64\n",
      "dtype: object\n"
     ]
    }
   ],
   "source": [
    "import pandas as pd\n",
    "df['Heart_Attack'] =df['Heart_Attack'].astype(float)\n",
    "print(df.dtypes)"
   ]
  },
  {
   "cell_type": "code",
   "execution_count": 34,
   "metadata": {
    "colab": {
     "base_uri": "https://localhost:8080/"
    },
    "executionInfo": {
     "elapsed": 4976,
     "status": "ok",
     "timestamp": 1736399144760,
     "user": {
      "displayName": "Vedanti Bijwe",
      "userId": "17411945833852736572"
     },
     "user_tz": -330
    },
    "id": "3WWweUZ9ZdzS",
    "outputId": "4e0ee046-8270-4a16-e568-0c41695522e9"
   },
   "outputs": [
    {
     "name": "stdout",
     "output_type": "stream",
     "text": [
      "              ID Age_Group  Gender        Ethnicity  Smoking_Status  \\\n",
      "0              1     Youth  Female  Native American  Current Smoker   \n",
      "1              2     Adult  Female  Native American      Non-smoker   \n",
      "2              3     Adult    Male  Native American   Former Smoker   \n",
      "3              4     Adult  Female            Black      Non-smoker   \n",
      "4              5     Youth    Male            White      Non-smoker   \n",
      "...          ...       ...     ...              ...             ...   \n",
      "4999995  4999996     Adult    Male            Asian   Former Smoker   \n",
      "4999996  4999997     Youth    Male         Hispanic  Current Smoker   \n",
      "4999997  4999998     Adult  Female            White   Former Smoker   \n",
      "4999998  4999999     Adult    Male            White      Non-smoker   \n",
      "4999999  5000000     Youth    Male         Hispanic      Non-smoker   \n",
      "\n",
      "        Alcohol_Consumption Diet_Quality  Cholesterol_Level  Blood_Pressure  \\\n",
      "0                  Moderate      Average                219             130   \n",
      "1                  Moderate      Average                151             122   \n",
      "2                  Moderate      Average                141             155   \n",
      "3                  Moderate      Average                220             173   \n",
      "4                  Moderate      Average                233             140   \n",
      "...                     ...          ...                ...             ...   \n",
      "4999995            Moderate    Excellent                181             160   \n",
      "4999996                 NaN         Poor                205             159   \n",
      "4999997                 NaN      Average                292             177   \n",
      "4999998            Moderate         Poor                210             119   \n",
      "4999999            Moderate      Average                210             143   \n",
      "\n",
      "          BMI  ...  Family_History Diabetes  Air_Quality_Index  Income_Level  \\\n",
      "0        24.0  ...               1        0           Moderate          High   \n",
      "1        35.6  ...               0        1               Good        Medium   \n",
      "2        22.3  ...               0        0               Good           Low   \n",
      "3        29.8  ...               0        1           Moderate           Low   \n",
      "4        30.9  ...               0        0               Good        Medium   \n",
      "...       ...  ...             ...      ...                ...           ...   \n",
      "4999995  23.5  ...               0        0               Good        Medium   \n",
      "4999996  37.6  ...               0        1               Good           Low   \n",
      "4999997  24.2  ...               0        0               Good        Medium   \n",
      "4999998  33.2  ...               0        1               Good          High   \n",
      "4999999  20.3  ...               0        0               Good           Low   \n",
      "\n",
      "        Sleep_Hours Heart_Rate  Medication_Status  Heart_Attack  \\\n",
      "0               4.3         98                  0           0.0   \n",
      "1               8.0         81                  0           0.0   \n",
      "2               5.9         84                  0           1.0   \n",
      "3               8.5         75                  0           0.0   \n",
      "4               5.9         99                  0           1.0   \n",
      "...             ...        ...                ...           ...   \n",
      "4999995         4.9         60                  0           0.0   \n",
      "4999996         5.7         75                  0           0.0   \n",
      "4999997         8.9         99                  0           1.0   \n",
      "4999998         4.6         89                  0           0.0   \n",
      "4999999         7.6         55                  0           0.0   \n",
      "\n",
      "                                 Source_File  BIM  \n",
      "0        heart_attack_youth_vs_adult (1).csv   24  \n",
      "1        heart_attack_youth_vs_adult (1).csv   35  \n",
      "2        heart_attack_youth_vs_adult (1).csv   22  \n",
      "3        heart_attack_youth_vs_adult (1).csv   29  \n",
      "4        heart_attack_youth_vs_adult (1).csv   30  \n",
      "...                                      ...  ...  \n",
      "4999995  heart_attack_youth_vs_adult (1).csv   23  \n",
      "4999996  heart_attack_youth_vs_adult (1).csv   37  \n",
      "4999997  heart_attack_youth_vs_adult (1).csv   24  \n",
      "4999998  heart_attack_youth_vs_adult (1).csv   33  \n",
      "4999999  heart_attack_youth_vs_adult (1).csv   20  \n",
      "\n",
      "[5000000 rows x 22 columns]\n",
      "ID                        int64\n",
      "Age_Group              category\n",
      "Gender                 category\n",
      "Ethnicity                object\n",
      "Smoking_Status           object\n",
      "Alcohol_Consumption      object\n",
      "Diet_Quality             object\n",
      "Cholesterol_Level         int64\n",
      "Blood_Pressure            int64\n",
      "BMI                     float64\n",
      "Physical_Activity         int64\n",
      "Stress_Level             object\n",
      "Family_History            int64\n",
      "Diabetes                  int64\n",
      "Air_Quality_Index        object\n",
      "Income_Level             object\n",
      "Sleep_Hours             float64\n",
      "Heart_Rate                int64\n",
      "Medication_Status         int64\n",
      "Heart_Attack            float64\n",
      "Source_File              object\n",
      "BIM                       int64\n",
      "dtype: object\n"
     ]
    }
   ],
   "source": [
    "df['Age_Group'] = df['Age_Group'].astype('category')\n",
    "df['Gender'] = df['Gender'].astype('category')\n",
    "\n",
    "# Display the DataFrame and data types\n",
    "print(df)\n",
    "print(df.dtypes)"
   ]
  },
  {
   "cell_type": "code",
   "execution_count": 35,
   "metadata": {
    "colab": {
     "base_uri": "https://localhost:8080/"
    },
    "executionInfo": {
     "elapsed": 391,
     "status": "ok",
     "timestamp": 1736399280331,
     "user": {
      "displayName": "Vedanti Bijwe",
      "userId": "17411945833852736572"
     },
     "user_tz": -330
    },
    "id": "cy7j2noTdkWG",
    "outputId": "3bfa6b99-e679-4e4e-b2dc-344a87c60762"
   },
   "outputs": [
    {
     "name": "stdout",
     "output_type": "stream",
     "text": [
      "The dataset has 5000000 rows and 22 columns.\n"
     ]
    }
   ],
   "source": [
    "\n",
    "print(f\"The dataset has {df.shape[0]} rows and {df.shape[1]} columns.\")\n"
   ]
  },
  {
   "cell_type": "code",
   "execution_count": 37,
   "metadata": {},
   "outputs": [
    {
     "name": "stdout",
     "output_type": "stream",
     "text": [
      "         Sleep_Hours sleep_binned\n",
      "0                4.3     very_low\n",
      "1                8.0      optimal\n",
      "2                5.9       normal\n",
      "3                8.5      optimal\n",
      "4                5.9       normal\n",
      "...              ...          ...\n",
      "4999995          4.9     very_low\n",
      "4999996          5.7       normal\n",
      "4999997          8.9      optimal\n",
      "4999998          4.6     very_low\n",
      "4999999          7.6      optimal\n",
      "\n",
      "[5000000 rows x 2 columns]\n"
     ]
    }
   ],
   "source": [
    "import numpy as np\n",
    "\n",
    "bins = [0, 5.5, 7.5, 9.5, np.inf]  # Using np.inf to include all values greater than 9.5\n",
    "labels = ['very_low', 'normal', 'optimal', 'excessive']  # Labels for each bin\n",
    "df['sleep_binned'] = pd.cut(df['Sleep_Hours'], bins=bins, labels=labels)\n",
    "\n",
    "print(df[['Sleep_Hours', 'sleep_binned']])"
   ]
  },
  {
   "cell_type": "code",
   "execution_count": 38,
   "metadata": {
    "colab": {
     "base_uri": "https://localhost:8080/"
    },
    "executionInfo": {
     "elapsed": 418,
     "status": "ok",
     "timestamp": 1736400222385,
     "user": {
      "displayName": "Vedanti Bijwe",
      "userId": "17411945833852736572"
     },
     "user_tz": -330
    },
    "id": "u53ee2bMhKK5",
    "outputId": "1c4e9c14-a956-4212-d7c1-8d347305d7eb"
   },
   "outputs": [
    {
     "name": "stdout",
     "output_type": "stream",
     "text": [
      "  age_group heart_disease\n",
      "0     Youth           Yes\n",
      "1     Adult            No\n",
      "2     Youth           Yes\n",
      "3     Adult            No\n",
      "4     Youth           Yes\n",
      "age_group        category\n",
      "heart_disease      object\n",
      "dtype: object\n"
     ]
    }
   ],
   "source": [
    "import pandas as pd\n",
    "\n",
    "# Sample DataFrame\n",
    "data = {'age_group': ['Youth', 'Adult', 'Youth', 'Adult', 'Youth'],\n",
    "        'heart_disease': ['Yes', 'No', 'Yes', 'No', 'Yes']}\n",
    "\n",
    "df = pd.DataFrame(data)\n",
    "\n",
    "# Convert 'age_group' column to categorical type\n",
    "df['age_group'] = df['age_group'].astype('category')\n",
    "\n",
    "# Display the DataFrame and data types\n",
    "print(df)\n",
    "print(df.dtypes)\n"
   ]
  }
 ],
 "metadata": {
  "colab": {
   "authorship_tag": "ABX9TyPk8bV7iSfu2aNuQ6SwGfyu",
   "provenance": []
  },
  "kernelspec": {
   "display_name": "Python 3",
   "name": "python3"
  },
  "language_info": {
   "codemirror_mode": {
    "name": "ipython",
    "version": 3
   },
   "file_extension": ".py",
   "mimetype": "text/x-python",
   "name": "python",
   "nbconvert_exporter": "python",
   "pygments_lexer": "ipython3",
   "version": "3.11.9"
  }
 },
 "nbformat": 4,
 "nbformat_minor": 0
}
