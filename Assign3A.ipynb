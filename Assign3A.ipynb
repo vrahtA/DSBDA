{
 "cells": [
  {
   "cell_type": "code",
   "execution_count": 1,
   "id": "b8e49cda-fd1f-4ce0-81dc-6c78cf9a8fd0",
   "metadata": {},
   "outputs": [
    {
     "name": "stdout",
     "output_type": "stream",
     "text": [
      "       Name  Age  Income  Gender\n",
      "0    Hannah   25   50000  Female\n",
      "1  Ravindra   30   55000    Male\n",
      "2  Surendra   35   60000    Male\n",
      "3      Ruby   28   52000  Female\n",
      "4       Eve   40   65000  Female\n",
      "5     Frank   45   70000    Male\n",
      "6     Grace   50   75000  Female\n",
      "7    Arvind   60   80000    Male\n"
     ]
    }
   ],
   "source": [
    "import pandas as pd\n",
    "\n",
    "df = pd.read_csv('data.csv')\n",
    "print(df.head(10))"
   ]
  },
  {
   "cell_type": "code",
   "execution_count": 2,
   "id": "be6b08a8",
   "metadata": {},
   "outputs": [
    {
     "name": "stdout",
     "output_type": "stream",
     "text": [
      "             Age        Income\n",
      "count   8.000000      8.000000\n",
      "mean   39.125000  63375.000000\n",
      "std    12.028983  11005.680352\n",
      "min    25.000000  50000.000000\n",
      "25%    29.500000  54250.000000\n",
      "50%    37.500000  62500.000000\n",
      "75%    46.250000  71250.000000\n",
      "max    60.000000  80000.000000\n"
     ]
    }
   ],
   "source": [
    "print(df.describe())"
   ]
  },
  {
   "cell_type": "code",
   "execution_count": 3,
   "id": "8140a0b6",
   "metadata": {},
   "outputs": [
    {
     "name": "stdout",
     "output_type": "stream",
     "text": [
      "        count     mean           std      min      25%      50%      75%  \\\n",
      "Gender                                                                     \n",
      "Female    4.0  60500.0  11733.143938  50000.0  51500.0  58500.0  67500.0   \n",
      "Male      4.0  66250.0  11086.778913  55000.0  58750.0  65000.0  72500.0   \n",
      "\n",
      "            max  \n",
      "Gender           \n",
      "Female  75000.0  \n",
      "Male    80000.0  \n"
     ]
    }
   ],
   "source": [
    "income = df.groupby('Gender')['Income'].describe()\n",
    "print(income)"
   ]
  },
  {
   "cell_type": "code",
   "execution_count": 4,
   "id": "49893522",
   "metadata": {},
   "outputs": [
    {
     "name": "stdout",
     "output_type": "stream",
     "text": [
      "       Name  Age  Income  Gender Age Group\n",
      "0    Hannah   25   50000  Female     20-30\n",
      "1  Ravindra   30   55000    Male     20-30\n",
      "2  Surendra   35   60000    Male     31-40\n",
      "3      Ruby   28   52000  Female     20-30\n",
      "4       Eve   40   65000  Female     31-40\n",
      "5     Frank   45   70000    Male     41-50\n",
      "6     Grace   50   75000  Female     41-50\n",
      "7    Arvind   60   80000    Male     51-60\n"
     ]
    }
   ],
   "source": [
    "# Define the age bins (ranges)\n",
    "bins = [20,30,40,50,60,100]\n",
    "# Define labels for the bins (what we call these ranges)\n",
    "labels = ['20-30','31-40','41-50','51-60','60+']\n",
    "\n",
    "df['Age Group'] = pd.cut(df['Age'],bins=bins,labels=labels)\n",
    "print(df)"
   ]
  },
  {
   "cell_type": "code",
   "execution_count": 5,
   "id": "e7643ef4",
   "metadata": {},
   "outputs": [
    {
     "name": "stdout",
     "output_type": "stream",
     "text": [
      "           count          mean          std      min      25%      50%  \\\n",
      "Age Group                                                                \n",
      "20-30        3.0  52333.333333  2516.611478  50000.0  51000.0  52000.0   \n",
      "31-40        2.0  62500.000000  3535.533906  60000.0  61250.0  62500.0   \n",
      "41-50        2.0  72500.000000  3535.533906  70000.0  71250.0  72500.0   \n",
      "51-60        1.0  80000.000000          NaN  80000.0  80000.0  80000.0   \n",
      "60+          0.0           NaN          NaN      NaN      NaN      NaN   \n",
      "\n",
      "               75%      max  \n",
      "Age Group                    \n",
      "20-30      53500.0  55000.0  \n",
      "31-40      63750.0  65000.0  \n",
      "41-50      73750.0  75000.0  \n",
      "51-60      80000.0  80000.0  \n",
      "60+            NaN      NaN  \n"
     ]
    },
    {
     "name": "stderr",
     "output_type": "stream",
     "text": [
      "C:\\Users\\Atharv\\AppData\\Local\\Temp\\ipykernel_26172\\2672945914.py:1: FutureWarning: The default of observed=False is deprecated and will be changed to True in a future version of pandas. Pass observed=False to retain current behavior or observed=True to adopt the future default and silence this warning.\n",
      "  income = df.groupby('Age Group')['Income'].describe()\n"
     ]
    }
   ],
   "source": [
    "income = df.groupby('Age Group')['Income'].describe()\n",
    "print(income)"
   ]
  }
 ],
 "metadata": {
  "kernelspec": {
   "display_name": "Python 3",
   "language": "python",
   "name": "python3"
  },
  "language_info": {
   "codemirror_mode": {
    "name": "ipython",
    "version": 3
   },
   "file_extension": ".py",
   "mimetype": "text/x-python",
   "name": "python",
   "nbconvert_exporter": "python",
   "pygments_lexer": "ipython3",
   "version": "3.11.9"
  }
 },
 "nbformat": 4,
 "nbformat_minor": 5
}
